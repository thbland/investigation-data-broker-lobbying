{
 "cells": [
  {
   "cell_type": "code",
   "execution_count": 1,
   "id": "polyphonic-boundary",
   "metadata": {},
   "outputs": [
    {
     "name": "stdout",
     "output_type": "stream",
     "text": [
      "INFO: Pandarallel will run on 4 workers.\n",
      "INFO: Pandarallel will use standard multiprocessing data transfer (pipe) to transfer data between the main process and workers.\n"
     ]
    },
    {
     "name": "stderr",
     "output_type": "stream",
     "text": [
      "/Users/maddy/Documents/2021/markup/investigations-data-broker-lobbying/databrokers/lib/python3.7/site-packages/fuzzywuzzy/fuzz.py:11: UserWarning: Using slow pure-python SequenceMatcher. Install python-Levenshtein to remove this warning\n",
      "  warnings.warn('Using slow pure-python SequenceMatcher. Install python-Levenshtein to remove this warning')\n",
      "/Users/maddy/Documents/2021/markup/investigations-data-broker-lobbying/databrokers/lib/python3.7/site-packages/ipykernel_launcher.py:7: TqdmExperimentalWarning: Using `tqdm.autonotebook.tqdm` in notebook mode. Use `tqdm.tqdm` instead to force console mode (e.g. in jupyter console)\n",
      "  import sys\n"
     ]
    }
   ],
   "source": [
    "import xml.etree.ElementTree as ET\n",
    "import os\n",
    "\n",
    "import pandas as pd\n",
    "from fuzzywuzzy import fuzz \n",
    "from fuzzywuzzy import process \n",
    "from tqdm.autonotebook import tqdm\n",
    "from pandarallel import pandarallel\n",
    "\n",
    "tqdm.pandas()\n",
    "pandarallel.initialize(progress_bar=True)"
   ]
  },
  {
   "cell_type": "markdown",
   "id": "lightweight-error",
   "metadata": {},
   "source": [
    "### Load Data Brokers"
   ]
  },
  {
   "cell_type": "markdown",
   "id": "interstate-staff",
   "metadata": {},
   "source": [
    "Import CA data brokers list"
   ]
  },
  {
   "cell_type": "code",
   "execution_count": 2,
   "id": "intellectual-teaching",
   "metadata": {},
   "outputs": [],
   "source": [
    "fn = '../data/data_brokers/ca-data-brokers.csv'\n",
    "df = pd.read_csv(fn)\n",
    "df['state'] = 'CA'\n",
    "ca = df[['Data Broker Name', 'Email Address', 'Website URL', 'Physical Address', 'state']].copy()\n",
    "ca.rename(inplace=True, columns={\n",
    "    'Data Broker Name':'name',\n",
    "    'Email Address':'email',\n",
    "    'Website URL':'url',\n",
    "    'Physical Address':'address'\n",
    "})"
   ]
  },
  {
   "cell_type": "markdown",
   "id": "portable-virtue",
   "metadata": {},
   "source": [
    "Import VT data brokers list"
   ]
  },
  {
   "cell_type": "code",
   "execution_count": 3,
   "id": "thick-photographer",
   "metadata": {},
   "outputs": [],
   "source": [
    "fn = '../data/data_brokers/vt-data-brokers.csv'\n",
    "df = pd.read_csv(fn)\n",
    "df['state'] = \"VT\"\n",
    "\n",
    "vt = df[['Data Broker Name:','Address:', 'Email Address:', 'Primary Internet Address:', 'state']].copy()\n",
    "vt.rename(inplace=True, columns={\n",
    "    'Data Broker Name:':'name',\n",
    "    'Address:':'address',\n",
    "    'Email Address:':'email',\n",
    "    'Primary Internet Address:':'url'\n",
    "})"
   ]
  },
  {
   "cell_type": "markdown",
   "id": "purple-oxide",
   "metadata": {},
   "source": [
    "Merge the two"
   ]
  },
  {
   "cell_type": "code",
   "execution_count": 4,
   "id": "jewish-imaging",
   "metadata": {},
   "outputs": [],
   "source": [
    "brokers = pd.concat([ca, vt])"
   ]
  },
  {
   "cell_type": "markdown",
   "id": "scheduled-internet",
   "metadata": {},
   "source": [
    "Save as output"
   ]
  },
  {
   "cell_type": "code",
   "execution_count": 5,
   "id": "forbidden-pioneer",
   "metadata": {},
   "outputs": [],
   "source": [
    "brokers.to_csv('../data/matching_process/brokers.csv', index=False)"
   ]
  },
  {
   "cell_type": "markdown",
   "id": "unauthorized-truth",
   "metadata": {},
   "source": [
    "### Load Lobbyist Clients"
   ]
  },
  {
   "cell_type": "code",
   "execution_count": 6,
   "id": "chicken-simon",
   "metadata": {},
   "outputs": [],
   "source": [
    "client_list = []\n",
    "\n",
    "folder = '../data/lobbying/'\n",
    "for path, dirs, files in os.walk(folder):\n",
    "    for file in files:\n",
    "        fullpath = os.path.join(path, file)\n",
    "        if file.endswith(\".xml\"):\n",
    "            with open(fullpath, \"rb\") as data:\n",
    "                tree = ET.parse(data)\n",
    "                root = tree.getroot()\n",
    "                for filing in root.iter('Filing'):\n",
    "                    filing_info = filing.attrib\n",
    "                    for client in filing.iter('Client'):\n",
    "                        client_info = client.attrib\n",
    "                        info = {\n",
    "                            'filing.id': filing_info['ID'],\n",
    "                            'filing.period': filing_info['Period'],\n",
    "                            'filing.year': filing_info['Year'],\n",
    "                            'client.name': client_info['ClientName'],\n",
    "                            'client.id': client_info['ClientID'],\n",
    "                            'client.desc': client_info['GeneralDescription'],\n",
    "                            'client.state': client_info['ClientState'],\n",
    "                            'client.country': client_info['ClientCountry']\n",
    "                        }\n",
    "                        client_list.append(info)\n",
    "\n",
    "cf = pd.DataFrame(client_list)"
   ]
  },
  {
   "cell_type": "markdown",
   "id": "partial-convertible",
   "metadata": {},
   "source": [
    "Filter for just 2020 filings"
   ]
  },
  {
   "cell_type": "code",
   "execution_count": 7,
   "id": "instrumental-village",
   "metadata": {},
   "outputs": [],
   "source": [
    "clients = cf[cf['filing.year'] == '2020'].copy()"
   ]
  },
  {
   "cell_type": "markdown",
   "id": "exact-bikini",
   "metadata": {},
   "source": [
    "Add bridge to matches"
   ]
  },
  {
   "cell_type": "code",
   "execution_count": 8,
   "id": "likely-designation",
   "metadata": {},
   "outputs": [
    {
     "name": "stderr",
     "output_type": "stream",
     "text": [
      "/Users/maddy/Documents/2021/markup/investigations-data-broker-lobbying/databrokers/lib/python3.7/site-packages/ipykernel_launcher.py:1: FutureWarning: The default value of regex will change from True to False in a future version. In addition, single character regular expressions will*not* be treated as literal strings when regex=True.\n",
      "  \"\"\"Entry point for launching an IPython kernel.\n"
     ]
    }
   ],
   "source": [
    "clients['client.name.check'] = clients['client.name'].str.replace(\",\",\"\").str.replace(\".\",\"\").str.upper()"
   ]
  },
  {
   "cell_type": "markdown",
   "id": "usual-polls",
   "metadata": {},
   "source": [
    "Save as output"
   ]
  },
  {
   "cell_type": "code",
   "execution_count": 9,
   "id": "indirect-plaza",
   "metadata": {},
   "outputs": [],
   "source": [
    "clients.to_csv('../data/matching_process/clients.csv', index=False)"
   ]
  },
  {
   "cell_type": "markdown",
   "id": "determined-borough",
   "metadata": {},
   "source": [
    "### Guess Matches"
   ]
  },
  {
   "cell_type": "code",
   "execution_count": 10,
   "id": "iraqi-drinking",
   "metadata": {},
   "outputs": [
    {
     "name": "stderr",
     "output_type": "stream",
     "text": [
      "/Users/maddy/Documents/2021/markup/investigations-data-broker-lobbying/databrokers/lib/python3.7/site-packages/ipykernel_launcher.py:1: FutureWarning: The default value of regex will change from True to False in a future version. In addition, single character regular expressions will*not* be treated as literal strings when regex=True.\n",
      "  \"\"\"Entry point for launching an IPython kernel.\n"
     ]
    }
   ],
   "source": [
    "brokers['name.check'] = brokers['name'].str.replace(\",\",\"\").str.replace(\".\",\"\").str.upper()"
   ]
  },
  {
   "cell_type": "code",
   "execution_count": 11,
   "id": "strategic-lafayette",
   "metadata": {},
   "outputs": [],
   "source": [
    "unique_clients = pd.DataFrame()\n",
    "unique_clients['client.name.check'] = clients['client.name.check'].unique()\n",
    "\n",
    "choices = list(brokers['name.check'].unique())\n",
    "choices.extend([\n",
    "    'EQUIFAX',\n",
    "    'EXPERIAN',\n",
    "    'X-MODE',\n",
    "    'IHS MARITIME & TRADE',\n",
    "    'ACXIOM',\n",
    "    'DELOITTE', \n",
    "    'PUBLICIS GROUP', \n",
    "    'ORACLE',\n",
    "    'ACCENTURE FEDERAL SERVICES',\n",
    "    'RELX',\n",
    "    'ELSEVIER',\n",
    "    'LIVERAMP',\n",
    "    'INMAR',\n",
    "    'EPSILON DATA'])\n",
    "\n",
    "def guess(client):\n",
    "    if client in choices:\n",
    "        return client, 100\n",
    "    pick, score = process.extractOne(client, choices)\n",
    "    return pick, score"
   ]
  },
  {
   "cell_type": "markdown",
   "id": "worth-insider",
   "metadata": {},
   "source": [
    "### First Pass: Data Broker Name List"
   ]
  },
  {
   "cell_type": "code",
   "execution_count": null,
   "id": "occupied-national",
   "metadata": {
    "scrolled": true
   },
   "outputs": [
    {
     "data": {
      "application/vnd.jupyter.widget-view+json": {
       "model_id": "8cf28a2d226047c59efbdd40b32aaefc",
       "version_major": 2,
       "version_minor": 0
      },
      "text/plain": [
       "VBox(children=(HBox(children=(IntProgress(value=0, description='0.00%', max=4270), Label(value='0 / 4270'))), …"
      ]
     },
     "metadata": {},
     "output_type": "display_data"
    }
   ],
   "source": [
    "unique_clients['guess'] = unique_clients['client.name.check'].parallel_apply(guess)"
   ]
  },
  {
   "cell_type": "code",
   "execution_count": null,
   "id": "trying-stocks",
   "metadata": {},
   "outputs": [],
   "source": [
    "unique_clients[['guess.name', 'guess.confidence']] = unique_clients['guess'].apply(pd.Series)"
   ]
  },
  {
   "cell_type": "markdown",
   "id": "handled-diary",
   "metadata": {},
   "source": [
    "### Export for Human Double-Checking"
   ]
  },
  {
   "cell_type": "code",
   "execution_count": null,
   "id": "atomic-warner",
   "metadata": {},
   "outputs": [],
   "source": [
    "describe = unique_clients['guess.confidence'].describe()"
   ]
  },
  {
   "cell_type": "code",
   "execution_count": null,
   "id": "thirty-samba",
   "metadata": {},
   "outputs": [],
   "source": [
    "guesses = unique_clients[unique_clients['guess.confidence'] > describe['75%']].sort_values(by='guess.confidence', ascending=False)\n",
    "guesses.to_csv('../data/matching_process/match-guesses.csv', index=False)"
   ]
  },
  {
   "cell_type": "code",
   "execution_count": null,
   "id": "fallen-hydrogen",
   "metadata": {},
   "outputs": [],
   "source": []
  }
 ],
 "metadata": {
  "kernelspec": {
   "display_name": "Python 3",
   "language": "python",
   "name": "python3"
  },
  "language_info": {
   "codemirror_mode": {
    "name": "ipython",
    "version": 3
   },
   "file_extension": ".py",
   "mimetype": "text/x-python",
   "name": "python",
   "nbconvert_exporter": "python",
   "pygments_lexer": "ipython3",
   "version": "3.7.3"
  }
 },
 "nbformat": 4,
 "nbformat_minor": 5
}
