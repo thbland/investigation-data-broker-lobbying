{
 "cells": [
  {
   "cell_type": "code",
   "execution_count": 52,
   "id": "amateur-humanity",
   "metadata": {},
   "outputs": [],
   "source": [
    "import xml.etree.ElementTree as ET\n",
    "import json\n",
    "import glob\n",
    "import re\n",
    "from pathlib import Path\n",
    "\n",
    "import pandas as pd\n",
    "import numpy as np\n",
    "import matplotlib.pyplot as plt"
   ]
  },
  {
   "cell_type": "markdown",
   "id": "robust-alarm",
   "metadata": {},
   "source": [
    "### Match Filing IDs with names"
   ]
  },
  {
   "cell_type": "code",
   "execution_count": 55,
   "id": "substantial-access",
   "metadata": {},
   "outputs": [],
   "source": [
    "keys = pd.read_csv('../data/matching_process/key-matches.csv')"
   ]
  },
  {
   "cell_type": "code",
   "execution_count": 56,
   "id": "secondary-fellowship",
   "metadata": {},
   "outputs": [
    {
     "name": "stderr",
     "output_type": "stream",
     "text": [
      "/Users/maddy/Documents/2021/markup/investigations-data-broker-lobbying/databrokers/lib/python3.7/site-packages/ipykernel_launcher.py:2: FutureWarning: The default value of regex will change from True to False in a future version. In addition, single character regular expressions will*not* be treated as literal strings when regex=True.\n",
      "  \n"
     ]
    }
   ],
   "source": [
    "clients = pd.read_csv('../data/matching_process/clients.csv')\n",
    "clients['client.name.check'] = clients['client.name'].str.replace(\",\",\"\").str.replace(\".\",\"\").str.upper()"
   ]
  },
  {
   "cell_type": "code",
   "execution_count": 57,
   "id": "aware-agreement",
   "metadata": {},
   "outputs": [],
   "source": [
    "filings = clients[clients['client.name.check'].isin(keys['client.name.check'].unique())].copy()"
   ]
  },
  {
   "cell_type": "code",
   "execution_count": 58,
   "id": "surprised-alert",
   "metadata": {},
   "outputs": [],
   "source": [
    "filings = filings.merge(keys[['client.name.check', 'company','parent_company']], on=\"client.name.check\").copy()"
   ]
  },
  {
   "cell_type": "code",
   "execution_count": 59,
   "id": "enclosed-scout",
   "metadata": {},
   "outputs": [],
   "source": [
    "filings = filings[['filing.id','parent_company','company','client.name', 'client.name.check','filing.period','filing.year',]]"
   ]
  },
  {
   "cell_type": "markdown",
   "id": "consistent-syntax",
   "metadata": {},
   "source": [
    "### Pull filings and save as a JSON blob"
   ]
  },
  {
   "cell_type": "code",
   "execution_count": 60,
   "id": "flush-argument",
   "metadata": {},
   "outputs": [],
   "source": [
    "ids = list(filings['filing.id'])"
   ]
  },
  {
   "cell_type": "code",
   "execution_count": 61,
   "id": "accompanied-invention",
   "metadata": {},
   "outputs": [],
   "source": [
    "blob = []\n",
    "for xmlfile in Path('../data/lobbying/').glob('**/*.xml'):\n",
    "    with open(xmlfile, \"rb\") as data:\n",
    "        tree = ET.parse(data)\n",
    "        root = tree.getroot()\n",
    "        for filing in root.iter('Filing'):\n",
    "            file = filing.attrib\n",
    "            if file['ID'] in ids:\n",
    "                for child in filing:\n",
    "                    grandchildren = [c.attrib for c in child]\n",
    "                    if len(grandchildren) > 0:\n",
    "                        assert(len(child.attrib) == 0)\n",
    "                        file[child.tag] = grandchildren\n",
    "                    else:\n",
    "                        file[child.tag] = child.attrib\n",
    "                blob.append(file)"
   ]
  },
  {
   "cell_type": "code",
   "execution_count": 62,
   "id": "imported-ferry",
   "metadata": {},
   "outputs": [],
   "source": [
    "with open('../data/matching_process/filings.json', 'w') as outfile:\n",
    "    json.dump({'Filings': blob}, outfile, indent=2)"
   ]
  },
  {
   "cell_type": "markdown",
   "id": "bizarre-great",
   "metadata": {},
   "source": [
    "### Reopen the JSON"
   ]
  },
  {
   "cell_type": "code",
   "execution_count": 63,
   "id": "senior-theology",
   "metadata": {},
   "outputs": [],
   "source": [
    "with open('../data/matching_process/filings.json', 'r') as json_file:\n",
    "    data = json.load(json_file)"
   ]
  },
  {
   "cell_type": "markdown",
   "id": "subsequent-decision",
   "metadata": {},
   "source": [
    "### Filter Out Duplicate/Registration Filings"
   ]
  },
  {
   "cell_type": "code",
   "execution_count": 64,
   "id": "ranging-window",
   "metadata": {},
   "outputs": [],
   "source": [
    "d = []\n",
    "for f in data['Filings']:\n",
    "    d.append({\n",
    "        'filing.id': f['ID'],\n",
    "        'client.name': f['Client']['ClientName'],\n",
    "        'registrant.name': f['Registrant']['RegistrantName'],\n",
    "        'registrant.id': f['Registrant']['RegistrantID'],\n",
    "        'is_self_filer': f['Client']['SelfFiler'],\n",
    "        'date': f['Received'],\n",
    "        'period': f['Period'],\n",
    "        'type': f['Type'],\n",
    "        'spending': f['Amount']\n",
    "    })\n",
    "df = pd.DataFrame(d)\n",
    "df['spending'] = pd.to_numeric(df['spending'])"
   ]
  },
  {
   "cell_type": "code",
   "execution_count": 65,
   "id": "ranking-torture",
   "metadata": {},
   "outputs": [],
   "source": [
    "spending = pd.merge(df, filings[['client.name', 'company','parent_company']].drop_duplicates(), on='client.name')"
   ]
  },
  {
   "cell_type": "code",
   "execution_count": 66,
   "id": "upset-slave",
   "metadata": {},
   "outputs": [],
   "source": [
    "no_dups = spending.sort_values(by='date', ascending=False).drop_duplicates(subset=['client.name', 'registrant.name', 'period']).copy()"
   ]
  },
  {
   "cell_type": "markdown",
   "id": "future-hearing",
   "metadata": {},
   "source": [
    "Remove all filings that don't have a spending amount"
   ]
  },
  {
   "cell_type": "code",
   "execution_count": 67,
   "id": "urban-impossible",
   "metadata": {},
   "outputs": [],
   "source": [
    "no_dups = no_dups[no_dups.spending.gt(0)]"
   ]
  },
  {
   "cell_type": "markdown",
   "id": "acquired-trail",
   "metadata": {},
   "source": [
    "Create a key to match subsidiaries with their parent companies"
   ]
  },
  {
   "cell_type": "code",
   "execution_count": 68,
   "id": "spoken-taylor",
   "metadata": {},
   "outputs": [],
   "source": [
    "subsidiaries_df = no_dups[~no_dups['parent_company'].isna()][['parent_company', 'company']].drop_duplicates().copy()\n",
    "subsidiaries = pd.Series(subsidiaries_df.parent_company.values,index=subsidiaries_df.company).to_dict()"
   ]
  },
  {
   "cell_type": "markdown",
   "id": "ranging-nickname",
   "metadata": {},
   "source": [
    "Add link to filing and export for easy reference"
   ]
  },
  {
   "cell_type": "code",
   "execution_count": 69,
   "id": "signal-leather",
   "metadata": {},
   "outputs": [],
   "source": [
    "reference = no_dups.copy()\n",
    "reference['filing_id'] = reference['filing.id']\n",
    "reference['lobbying_firm'] = reference['registrant.name']\n",
    "reference['client_name'] = reference['client.name']\n",
    "reference['url'] = reference['filing_id'].apply(lambda s: 'https://lda.senate.gov/filings/public/filing/' + s.lower() + '/print/')"
   ]
  },
  {
   "cell_type": "code",
   "execution_count": 70,
   "id": "outdoor-school",
   "metadata": {},
   "outputs": [],
   "source": [
    "ref_cols = ['filing_id', 'url', 'parent_company', 'company', 'client_name', 'lobbying_firm', 'is_self_filer', 'type', 'period', 'spending']\n",
    "sort_cols = ['company', 'period','is_self_filer','spending']\n",
    "reference[ref_cols].sort_values(by=sort_cols).to_csv('../data/findings/data-broker-filings.csv',index=False)"
   ]
  }
 ],
 "metadata": {
  "kernelspec": {
   "display_name": "Python 3",
   "language": "python",
   "name": "python3"
  },
  "language_info": {
   "codemirror_mode": {
    "name": "ipython",
    "version": 3
   },
   "file_extension": ".py",
   "mimetype": "text/x-python",
   "name": "python",
   "nbconvert_exporter": "python",
   "pygments_lexer": "ipython3",
   "version": "3.7.3"
  }
 },
 "nbformat": 4,
 "nbformat_minor": 5
}
